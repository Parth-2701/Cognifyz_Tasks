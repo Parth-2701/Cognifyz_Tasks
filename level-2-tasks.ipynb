{
 "cells": [
  {
   "cell_type": "code",
   "execution_count": 1,
   "id": "1dd50a03",
   "metadata": {
    "_cell_guid": "b1076dfc-b9ad-4769-8c92-a6c4dae69d19",
    "_uuid": "8f2839f25d086af736a60e9eeb907d3b93b6e0e5",
    "execution": {
     "iopub.execute_input": "2024-03-05T12:24:25.738461Z",
     "iopub.status.busy": "2024-03-05T12:24:25.737660Z",
     "iopub.status.idle": "2024-03-05T12:24:26.695717Z",
     "shell.execute_reply": "2024-03-05T12:24:26.694124Z"
    },
    "papermill": {
     "duration": 0.970275,
     "end_time": "2024-03-05T12:24:26.698918",
     "exception": false,
     "start_time": "2024-03-05T12:24:25.728643",
     "status": "completed"
    },
    "tags": []
   },
   "outputs": [
    {
     "name": "stdout",
     "output_type": "stream",
     "text": [
      "/kaggle/input/cognifyzintern1/Dataset .csv\n"
     ]
    }
   ],
   "source": [
    "# This Python 3 environment comes with many helpful analytics libraries installed\n",
    "# It is defined by the kaggle/python Docker image: https://github.com/kaggle/docker-python\n",
    "# For example, here's several helpful packages to load\n",
    "\n",
    "import numpy as np # linear algebra\n",
    "import pandas as pd # data processing, CSV file I/O (e.g. pd.read_csv)\n",
    "\n",
    "# Input data files are available in the read-only \"../input/\" directory\n",
    "# For example, running this (by clicking run or pressing Shift+Enter) will list all files under the input directory\n",
    "\n",
    "import os\n",
    "for dirname, _, filenames in os.walk('/kaggle/input'):\n",
    "    for filename in filenames:\n",
    "        print(os.path.join(dirname, filename))\n",
    "\n",
    "# You can write up to 20GB to the current directory (/kaggle/working/) that gets preserved as output when you create a version using \"Save & Run All\" \n",
    "# You can also write temporary files to /kaggle/temp/, but they won't be saved outside of the current session"
   ]
  },
  {
   "cell_type": "code",
   "execution_count": 2,
   "id": "927f11df",
   "metadata": {
    "execution": {
     "iopub.execute_input": "2024-03-05T12:24:26.713991Z",
     "iopub.status.busy": "2024-03-05T12:24:26.713465Z",
     "iopub.status.idle": "2024-03-05T12:24:28.394605Z",
     "shell.execute_reply": "2024-03-05T12:24:28.393333Z"
    },
    "papermill": {
     "duration": 1.691929,
     "end_time": "2024-03-05T12:24:28.397743",
     "exception": false,
     "start_time": "2024-03-05T12:24:26.705814",
     "status": "completed"
    },
    "tags": []
   },
   "outputs": [],
   "source": [
    "import pandas as pd \n",
    "import numpy as np\n",
    "import matplotlib.pyplot as plt\n",
    "import seaborn as sns\n",
    "from sklearn.preprocessing import LabelEncoder"
   ]
  },
  {
   "cell_type": "code",
   "execution_count": 3,
   "id": "492a5fcb",
   "metadata": {
    "execution": {
     "iopub.execute_input": "2024-03-05T12:24:28.412539Z",
     "iopub.status.busy": "2024-03-05T12:24:28.412085Z",
     "iopub.status.idle": "2024-03-05T12:24:28.590709Z",
     "shell.execute_reply": "2024-03-05T12:24:28.587812Z"
    },
    "papermill": {
     "duration": 0.189447,
     "end_time": "2024-03-05T12:24:28.593672",
     "exception": false,
     "start_time": "2024-03-05T12:24:28.404225",
     "status": "completed"
    },
    "tags": []
   },
   "outputs": [
    {
     "data": {
      "text/html": [
       "<div>\n",
       "<style scoped>\n",
       "    .dataframe tbody tr th:only-of-type {\n",
       "        vertical-align: middle;\n",
       "    }\n",
       "\n",
       "    .dataframe tbody tr th {\n",
       "        vertical-align: top;\n",
       "    }\n",
       "\n",
       "    .dataframe thead th {\n",
       "        text-align: right;\n",
       "    }\n",
       "</style>\n",
       "<table border=\"1\" class=\"dataframe\">\n",
       "  <thead>\n",
       "    <tr style=\"text-align: right;\">\n",
       "      <th></th>\n",
       "      <th>Restaurant ID</th>\n",
       "      <th>Restaurant Name</th>\n",
       "      <th>Country Code</th>\n",
       "      <th>City</th>\n",
       "      <th>Address</th>\n",
       "      <th>Locality</th>\n",
       "      <th>Locality Verbose</th>\n",
       "      <th>Longitude</th>\n",
       "      <th>Latitude</th>\n",
       "      <th>Cuisines</th>\n",
       "      <th>...</th>\n",
       "      <th>Currency</th>\n",
       "      <th>Has Table booking</th>\n",
       "      <th>Has Online delivery</th>\n",
       "      <th>Is delivering now</th>\n",
       "      <th>Switch to order menu</th>\n",
       "      <th>Price range</th>\n",
       "      <th>Aggregate rating</th>\n",
       "      <th>Rating color</th>\n",
       "      <th>Rating text</th>\n",
       "      <th>Votes</th>\n",
       "    </tr>\n",
       "  </thead>\n",
       "  <tbody>\n",
       "    <tr>\n",
       "      <th>0</th>\n",
       "      <td>6317637</td>\n",
       "      <td>Le Petit Souffle</td>\n",
       "      <td>162</td>\n",
       "      <td>Makati City</td>\n",
       "      <td>Third Floor, Century City Mall, Kalayaan Avenu...</td>\n",
       "      <td>Century City Mall, Poblacion, Makati City</td>\n",
       "      <td>Century City Mall, Poblacion, Makati City, Mak...</td>\n",
       "      <td>121.027535</td>\n",
       "      <td>14.565443</td>\n",
       "      <td>French, Japanese, Desserts</td>\n",
       "      <td>...</td>\n",
       "      <td>Botswana Pula(P)</td>\n",
       "      <td>Yes</td>\n",
       "      <td>No</td>\n",
       "      <td>No</td>\n",
       "      <td>No</td>\n",
       "      <td>3</td>\n",
       "      <td>4.8</td>\n",
       "      <td>Dark Green</td>\n",
       "      <td>Excellent</td>\n",
       "      <td>314</td>\n",
       "    </tr>\n",
       "    <tr>\n",
       "      <th>1</th>\n",
       "      <td>6304287</td>\n",
       "      <td>Izakaya Kikufuji</td>\n",
       "      <td>162</td>\n",
       "      <td>Makati City</td>\n",
       "      <td>Little Tokyo, 2277 Chino Roces Avenue, Legaspi...</td>\n",
       "      <td>Little Tokyo, Legaspi Village, Makati City</td>\n",
       "      <td>Little Tokyo, Legaspi Village, Makati City, Ma...</td>\n",
       "      <td>121.014101</td>\n",
       "      <td>14.553708</td>\n",
       "      <td>Japanese</td>\n",
       "      <td>...</td>\n",
       "      <td>Botswana Pula(P)</td>\n",
       "      <td>Yes</td>\n",
       "      <td>No</td>\n",
       "      <td>No</td>\n",
       "      <td>No</td>\n",
       "      <td>3</td>\n",
       "      <td>4.5</td>\n",
       "      <td>Dark Green</td>\n",
       "      <td>Excellent</td>\n",
       "      <td>591</td>\n",
       "    </tr>\n",
       "    <tr>\n",
       "      <th>2</th>\n",
       "      <td>6300002</td>\n",
       "      <td>Heat - Edsa Shangri-La</td>\n",
       "      <td>162</td>\n",
       "      <td>Mandaluyong City</td>\n",
       "      <td>Edsa Shangri-La, 1 Garden Way, Ortigas, Mandal...</td>\n",
       "      <td>Edsa Shangri-La, Ortigas, Mandaluyong City</td>\n",
       "      <td>Edsa Shangri-La, Ortigas, Mandaluyong City, Ma...</td>\n",
       "      <td>121.056831</td>\n",
       "      <td>14.581404</td>\n",
       "      <td>Seafood, Asian, Filipino, Indian</td>\n",
       "      <td>...</td>\n",
       "      <td>Botswana Pula(P)</td>\n",
       "      <td>Yes</td>\n",
       "      <td>No</td>\n",
       "      <td>No</td>\n",
       "      <td>No</td>\n",
       "      <td>4</td>\n",
       "      <td>4.4</td>\n",
       "      <td>Green</td>\n",
       "      <td>Very Good</td>\n",
       "      <td>270</td>\n",
       "    </tr>\n",
       "    <tr>\n",
       "      <th>3</th>\n",
       "      <td>6318506</td>\n",
       "      <td>Ooma</td>\n",
       "      <td>162</td>\n",
       "      <td>Mandaluyong City</td>\n",
       "      <td>Third Floor, Mega Fashion Hall, SM Megamall, O...</td>\n",
       "      <td>SM Megamall, Ortigas, Mandaluyong City</td>\n",
       "      <td>SM Megamall, Ortigas, Mandaluyong City, Mandal...</td>\n",
       "      <td>121.056475</td>\n",
       "      <td>14.585318</td>\n",
       "      <td>Japanese, Sushi</td>\n",
       "      <td>...</td>\n",
       "      <td>Botswana Pula(P)</td>\n",
       "      <td>No</td>\n",
       "      <td>No</td>\n",
       "      <td>No</td>\n",
       "      <td>No</td>\n",
       "      <td>4</td>\n",
       "      <td>4.9</td>\n",
       "      <td>Dark Green</td>\n",
       "      <td>Excellent</td>\n",
       "      <td>365</td>\n",
       "    </tr>\n",
       "    <tr>\n",
       "      <th>4</th>\n",
       "      <td>6314302</td>\n",
       "      <td>Sambo Kojin</td>\n",
       "      <td>162</td>\n",
       "      <td>Mandaluyong City</td>\n",
       "      <td>Third Floor, Mega Atrium, SM Megamall, Ortigas...</td>\n",
       "      <td>SM Megamall, Ortigas, Mandaluyong City</td>\n",
       "      <td>SM Megamall, Ortigas, Mandaluyong City, Mandal...</td>\n",
       "      <td>121.057508</td>\n",
       "      <td>14.584450</td>\n",
       "      <td>Japanese, Korean</td>\n",
       "      <td>...</td>\n",
       "      <td>Botswana Pula(P)</td>\n",
       "      <td>Yes</td>\n",
       "      <td>No</td>\n",
       "      <td>No</td>\n",
       "      <td>No</td>\n",
       "      <td>4</td>\n",
       "      <td>4.8</td>\n",
       "      <td>Dark Green</td>\n",
       "      <td>Excellent</td>\n",
       "      <td>229</td>\n",
       "    </tr>\n",
       "    <tr>\n",
       "      <th>...</th>\n",
       "      <td>...</td>\n",
       "      <td>...</td>\n",
       "      <td>...</td>\n",
       "      <td>...</td>\n",
       "      <td>...</td>\n",
       "      <td>...</td>\n",
       "      <td>...</td>\n",
       "      <td>...</td>\n",
       "      <td>...</td>\n",
       "      <td>...</td>\n",
       "      <td>...</td>\n",
       "      <td>...</td>\n",
       "      <td>...</td>\n",
       "      <td>...</td>\n",
       "      <td>...</td>\n",
       "      <td>...</td>\n",
       "      <td>...</td>\n",
       "      <td>...</td>\n",
       "      <td>...</td>\n",
       "      <td>...</td>\n",
       "      <td>...</td>\n",
       "    </tr>\n",
       "    <tr>\n",
       "      <th>9546</th>\n",
       "      <td>5915730</td>\n",
       "      <td>Naml۱ Gurme</td>\n",
       "      <td>208</td>\n",
       "      <td>��stanbul</td>\n",
       "      <td>Kemanke�� Karamustafa Pa��a Mahallesi, R۱ht۱m ...</td>\n",
       "      <td>Karak�_y</td>\n",
       "      <td>Karak�_y, ��stanbul</td>\n",
       "      <td>28.977392</td>\n",
       "      <td>41.022793</td>\n",
       "      <td>Turkish</td>\n",
       "      <td>...</td>\n",
       "      <td>Turkish Lira(TL)</td>\n",
       "      <td>No</td>\n",
       "      <td>No</td>\n",
       "      <td>No</td>\n",
       "      <td>No</td>\n",
       "      <td>3</td>\n",
       "      <td>4.1</td>\n",
       "      <td>Green</td>\n",
       "      <td>Very Good</td>\n",
       "      <td>788</td>\n",
       "    </tr>\n",
       "    <tr>\n",
       "      <th>9547</th>\n",
       "      <td>5908749</td>\n",
       "      <td>Ceviz A��ac۱</td>\n",
       "      <td>208</td>\n",
       "      <td>��stanbul</td>\n",
       "      <td>Ko��uyolu Mahallesi, Muhittin ��st�_nda�� Cadd...</td>\n",
       "      <td>Ko��uyolu</td>\n",
       "      <td>Ko��uyolu, ��stanbul</td>\n",
       "      <td>29.041297</td>\n",
       "      <td>41.009847</td>\n",
       "      <td>World Cuisine, Patisserie, Cafe</td>\n",
       "      <td>...</td>\n",
       "      <td>Turkish Lira(TL)</td>\n",
       "      <td>No</td>\n",
       "      <td>No</td>\n",
       "      <td>No</td>\n",
       "      <td>No</td>\n",
       "      <td>3</td>\n",
       "      <td>4.2</td>\n",
       "      <td>Green</td>\n",
       "      <td>Very Good</td>\n",
       "      <td>1034</td>\n",
       "    </tr>\n",
       "    <tr>\n",
       "      <th>9548</th>\n",
       "      <td>5915807</td>\n",
       "      <td>Huqqa</td>\n",
       "      <td>208</td>\n",
       "      <td>��stanbul</td>\n",
       "      <td>Kuru�_e��me Mahallesi, Muallim Naci Caddesi, N...</td>\n",
       "      <td>Kuru�_e��me</td>\n",
       "      <td>Kuru�_e��me, ��stanbul</td>\n",
       "      <td>29.034640</td>\n",
       "      <td>41.055817</td>\n",
       "      <td>Italian, World Cuisine</td>\n",
       "      <td>...</td>\n",
       "      <td>Turkish Lira(TL)</td>\n",
       "      <td>No</td>\n",
       "      <td>No</td>\n",
       "      <td>No</td>\n",
       "      <td>No</td>\n",
       "      <td>4</td>\n",
       "      <td>3.7</td>\n",
       "      <td>Yellow</td>\n",
       "      <td>Good</td>\n",
       "      <td>661</td>\n",
       "    </tr>\n",
       "    <tr>\n",
       "      <th>9549</th>\n",
       "      <td>5916112</td>\n",
       "      <td>A���k Kahve</td>\n",
       "      <td>208</td>\n",
       "      <td>��stanbul</td>\n",
       "      <td>Kuru�_e��me Mahallesi, Muallim Naci Caddesi, N...</td>\n",
       "      <td>Kuru�_e��me</td>\n",
       "      <td>Kuru�_e��me, ��stanbul</td>\n",
       "      <td>29.036019</td>\n",
       "      <td>41.057979</td>\n",
       "      <td>Restaurant Cafe</td>\n",
       "      <td>...</td>\n",
       "      <td>Turkish Lira(TL)</td>\n",
       "      <td>No</td>\n",
       "      <td>No</td>\n",
       "      <td>No</td>\n",
       "      <td>No</td>\n",
       "      <td>4</td>\n",
       "      <td>4.0</td>\n",
       "      <td>Green</td>\n",
       "      <td>Very Good</td>\n",
       "      <td>901</td>\n",
       "    </tr>\n",
       "    <tr>\n",
       "      <th>9550</th>\n",
       "      <td>5927402</td>\n",
       "      <td>Walter's Coffee Roastery</td>\n",
       "      <td>208</td>\n",
       "      <td>��stanbul</td>\n",
       "      <td>Cafea��a Mahallesi, Bademalt۱ Sokak, No 21/B, ...</td>\n",
       "      <td>Moda</td>\n",
       "      <td>Moda, ��stanbul</td>\n",
       "      <td>29.026016</td>\n",
       "      <td>40.984776</td>\n",
       "      <td>Cafe</td>\n",
       "      <td>...</td>\n",
       "      <td>Turkish Lira(TL)</td>\n",
       "      <td>No</td>\n",
       "      <td>No</td>\n",
       "      <td>No</td>\n",
       "      <td>No</td>\n",
       "      <td>2</td>\n",
       "      <td>4.0</td>\n",
       "      <td>Green</td>\n",
       "      <td>Very Good</td>\n",
       "      <td>591</td>\n",
       "    </tr>\n",
       "  </tbody>\n",
       "</table>\n",
       "<p>9551 rows × 21 columns</p>\n",
       "</div>"
      ],
      "text/plain": [
       "      Restaurant ID           Restaurant Name  Country Code              City  \\\n",
       "0           6317637          Le Petit Souffle           162       Makati City   \n",
       "1           6304287          Izakaya Kikufuji           162       Makati City   \n",
       "2           6300002    Heat - Edsa Shangri-La           162  Mandaluyong City   \n",
       "3           6318506                      Ooma           162  Mandaluyong City   \n",
       "4           6314302               Sambo Kojin           162  Mandaluyong City   \n",
       "...             ...                       ...           ...               ...   \n",
       "9546        5915730               Naml۱ Gurme           208         ��stanbul   \n",
       "9547        5908749              Ceviz A��ac۱           208         ��stanbul   \n",
       "9548        5915807                     Huqqa           208         ��stanbul   \n",
       "9549        5916112               A���k Kahve           208         ��stanbul   \n",
       "9550        5927402  Walter's Coffee Roastery           208         ��stanbul   \n",
       "\n",
       "                                                Address  \\\n",
       "0     Third Floor, Century City Mall, Kalayaan Avenu...   \n",
       "1     Little Tokyo, 2277 Chino Roces Avenue, Legaspi...   \n",
       "2     Edsa Shangri-La, 1 Garden Way, Ortigas, Mandal...   \n",
       "3     Third Floor, Mega Fashion Hall, SM Megamall, O...   \n",
       "4     Third Floor, Mega Atrium, SM Megamall, Ortigas...   \n",
       "...                                                 ...   \n",
       "9546  Kemanke�� Karamustafa Pa��a Mahallesi, R۱ht۱m ...   \n",
       "9547  Ko��uyolu Mahallesi, Muhittin ��st�_nda�� Cadd...   \n",
       "9548  Kuru�_e��me Mahallesi, Muallim Naci Caddesi, N...   \n",
       "9549  Kuru�_e��me Mahallesi, Muallim Naci Caddesi, N...   \n",
       "9550  Cafea��a Mahallesi, Bademalt۱ Sokak, No 21/B, ...   \n",
       "\n",
       "                                        Locality  \\\n",
       "0      Century City Mall, Poblacion, Makati City   \n",
       "1     Little Tokyo, Legaspi Village, Makati City   \n",
       "2     Edsa Shangri-La, Ortigas, Mandaluyong City   \n",
       "3         SM Megamall, Ortigas, Mandaluyong City   \n",
       "4         SM Megamall, Ortigas, Mandaluyong City   \n",
       "...                                          ...   \n",
       "9546                                    Karak�_y   \n",
       "9547                                   Ko��uyolu   \n",
       "9548                                 Kuru�_e��me   \n",
       "9549                                 Kuru�_e��me   \n",
       "9550                                        Moda   \n",
       "\n",
       "                                       Locality Verbose   Longitude  \\\n",
       "0     Century City Mall, Poblacion, Makati City, Mak...  121.027535   \n",
       "1     Little Tokyo, Legaspi Village, Makati City, Ma...  121.014101   \n",
       "2     Edsa Shangri-La, Ortigas, Mandaluyong City, Ma...  121.056831   \n",
       "3     SM Megamall, Ortigas, Mandaluyong City, Mandal...  121.056475   \n",
       "4     SM Megamall, Ortigas, Mandaluyong City, Mandal...  121.057508   \n",
       "...                                                 ...         ...   \n",
       "9546                                Karak�_y, ��stanbul   28.977392   \n",
       "9547                               Ko��uyolu, ��stanbul   29.041297   \n",
       "9548                             Kuru�_e��me, ��stanbul   29.034640   \n",
       "9549                             Kuru�_e��me, ��stanbul   29.036019   \n",
       "9550                                    Moda, ��stanbul   29.026016   \n",
       "\n",
       "       Latitude                          Cuisines  ...          Currency  \\\n",
       "0     14.565443        French, Japanese, Desserts  ...  Botswana Pula(P)   \n",
       "1     14.553708                          Japanese  ...  Botswana Pula(P)   \n",
       "2     14.581404  Seafood, Asian, Filipino, Indian  ...  Botswana Pula(P)   \n",
       "3     14.585318                   Japanese, Sushi  ...  Botswana Pula(P)   \n",
       "4     14.584450                  Japanese, Korean  ...  Botswana Pula(P)   \n",
       "...         ...                               ...  ...               ...   \n",
       "9546  41.022793                           Turkish  ...  Turkish Lira(TL)   \n",
       "9547  41.009847   World Cuisine, Patisserie, Cafe  ...  Turkish Lira(TL)   \n",
       "9548  41.055817            Italian, World Cuisine  ...  Turkish Lira(TL)   \n",
       "9549  41.057979                   Restaurant Cafe  ...  Turkish Lira(TL)   \n",
       "9550  40.984776                              Cafe  ...  Turkish Lira(TL)   \n",
       "\n",
       "     Has Table booking Has Online delivery Is delivering now  \\\n",
       "0                  Yes                  No                No   \n",
       "1                  Yes                  No                No   \n",
       "2                  Yes                  No                No   \n",
       "3                   No                  No                No   \n",
       "4                  Yes                  No                No   \n",
       "...                ...                 ...               ...   \n",
       "9546                No                  No                No   \n",
       "9547                No                  No                No   \n",
       "9548                No                  No                No   \n",
       "9549                No                  No                No   \n",
       "9550                No                  No                No   \n",
       "\n",
       "     Switch to order menu Price range  Aggregate rating  Rating color  \\\n",
       "0                      No           3               4.8    Dark Green   \n",
       "1                      No           3               4.5    Dark Green   \n",
       "2                      No           4               4.4         Green   \n",
       "3                      No           4               4.9    Dark Green   \n",
       "4                      No           4               4.8    Dark Green   \n",
       "...                   ...         ...               ...           ...   \n",
       "9546                   No           3               4.1         Green   \n",
       "9547                   No           3               4.2         Green   \n",
       "9548                   No           4               3.7        Yellow   \n",
       "9549                   No           4               4.0         Green   \n",
       "9550                   No           2               4.0         Green   \n",
       "\n",
       "     Rating text Votes  \n",
       "0      Excellent   314  \n",
       "1      Excellent   591  \n",
       "2      Very Good   270  \n",
       "3      Excellent   365  \n",
       "4      Excellent   229  \n",
       "...          ...   ...  \n",
       "9546   Very Good   788  \n",
       "9547   Very Good  1034  \n",
       "9548        Good   661  \n",
       "9549   Very Good   901  \n",
       "9550   Very Good   591  \n",
       "\n",
       "[9551 rows x 21 columns]"
      ]
     },
     "execution_count": 3,
     "metadata": {},
     "output_type": "execute_result"
    }
   ],
   "source": [
    "df = pd.read_csv('/kaggle/input/cognifyzintern1/Dataset .csv')\n",
    "df"
   ]
  },
  {
   "cell_type": "markdown",
   "id": "789a5f6f",
   "metadata": {
    "papermill": {
     "duration": 0.007006,
     "end_time": "2024-03-05T12:24:28.608003",
     "exception": false,
     "start_time": "2024-03-05T12:24:28.600997",
     "status": "completed"
    },
    "tags": []
   },
   "source": [
    "Determine the percentage of restaurants that offer table booking and online delivery"
   ]
  },
  {
   "cell_type": "code",
   "execution_count": 4,
   "id": "ea056b28",
   "metadata": {
    "execution": {
     "iopub.execute_input": "2024-03-05T12:24:28.625030Z",
     "iopub.status.busy": "2024-03-05T12:24:28.624625Z",
     "iopub.status.idle": "2024-03-05T12:24:28.640158Z",
     "shell.execute_reply": "2024-03-05T12:24:28.638764Z"
    },
    "papermill": {
     "duration": 0.026983,
     "end_time": "2024-03-05T12:24:28.642864",
     "exception": false,
     "start_time": "2024-03-05T12:24:28.615881",
     "status": "completed"
    },
    "tags": []
   },
   "outputs": [
    {
     "name": "stdout",
     "output_type": "stream",
     "text": [
      "Percentage of restaurants having table booking : 12.124384881164275%\n",
      "Percentage of restaurants having online delivery:  25.662234321013504%\n"
     ]
    }
   ],
   "source": [
    "#Below we map the binary variables 'Has Online delivery' and 'Has Table booking' in the form of 0s and 1s by declaring \"Yes\" as 1 and \"No\" as 0\n",
    "df['Has Online delivery'] = df['Has Online delivery'].map({'Yes': 1,'No': 0})\n",
    "df['Has Table booking']= df['Has Table booking'].map({'Yes' : 1,'No' : 0})\n",
    "#Now we calculate the required percentage and print it \n",
    "online_delivery = (df['Has Online delivery'].sum()/len(df))*100\n",
    "table_booking = (df['Has Table booking'].sum()/len(df))*100\n",
    "print(f\"Percentage of restaurants having table booking : {table_booking}%\")\n",
    "print(f\"Percentage of restaurants having online delivery:  {online_delivery}%\")\n"
   ]
  },
  {
   "cell_type": "markdown",
   "id": "c2a0abe2",
   "metadata": {
    "papermill": {
     "duration": 0.007052,
     "end_time": "2024-03-05T12:24:28.657864",
     "exception": false,
     "start_time": "2024-03-05T12:24:28.650812",
     "status": "completed"
    },
    "tags": []
   },
   "source": [
    "Compare the average ratings of restaurants with table booking and those without"
   ]
  },
  {
   "cell_type": "code",
   "execution_count": 5,
   "id": "8ca30534",
   "metadata": {
    "execution": {
     "iopub.execute_input": "2024-03-05T12:24:28.674643Z",
     "iopub.status.busy": "2024-03-05T12:24:28.674182Z",
     "iopub.status.idle": "2024-03-05T12:24:28.687124Z",
     "shell.execute_reply": "2024-03-05T12:24:28.685763Z"
    },
    "papermill": {
     "duration": 0.024459,
     "end_time": "2024-03-05T12:24:28.689678",
     "exception": false,
     "start_time": "2024-03-05T12:24:28.665219",
     "status": "completed"
    },
    "tags": []
   },
   "outputs": [
    {
     "name": "stdout",
     "output_type": "stream",
     "text": [
      "Average Rating with booking 3.4419689119170984\n",
      "Averags Rating without booking 2.559358989634219\n"
     ]
    }
   ],
   "source": [
    "#Below we store the average ratings of restaurants  \n",
    "avg_rating_with_booking = df[df['Has Table booking']==True]['Aggregate rating'].mean()\n",
    "avg_rating_without_booking = df[df['Has Table booking']==False]['Aggregate rating'].mean()\n",
    "#Now we print the required ratings \n",
    "print(f\"Average Rating with booking {avg_rating_with_booking}\")\n",
    "print(f\"Averags Rating without booking {avg_rating_without_booking}\")\n"
   ]
  },
  {
   "cell_type": "markdown",
   "id": "f50904f4",
   "metadata": {
    "papermill": {
     "duration": 0.007321,
     "end_time": "2024-03-05T12:24:28.704549",
     "exception": false,
     "start_time": "2024-03-05T12:24:28.697228",
     "status": "completed"
    },
    "tags": []
   },
   "source": [
    "Analyse the availability of online delivery among restaurants with different price ranges "
   ]
  },
  {
   "cell_type": "code",
   "execution_count": 6,
   "id": "98a06cb3",
   "metadata": {
    "execution": {
     "iopub.execute_input": "2024-03-05T12:24:28.721300Z",
     "iopub.status.busy": "2024-03-05T12:24:28.720885Z",
     "iopub.status.idle": "2024-03-05T12:24:28.739726Z",
     "shell.execute_reply": "2024-03-05T12:24:28.738135Z"
    },
    "papermill": {
     "duration": 0.03048,
     "end_time": "2024-03-05T12:24:28.742353",
     "exception": false,
     "start_time": "2024-03-05T12:24:28.711873",
     "status": "completed"
    },
    "tags": []
   },
   "outputs": [
    {
     "name": "stdout",
     "output_type": "stream",
     "text": [
      "Price range : 3,Online delivery percentage : 29.19034090909091%\n",
      "Price range : 4,Online delivery percentage : 9.044368600682594%\n",
      "Price range : 2,Online delivery percentage : 41.310632830067455%\n",
      "Price range : 1,Online delivery percentage : 15.774077407740775%\n"
     ]
    }
   ],
   "source": [
    "p_ranges = df['Price range'].unique()\n",
    "for price in p_ranges:\n",
    "    sb = df[df['Price range']==price]\n",
    "    online_delivery_percent = (sb['Has Online delivery'].sum()/len(sb))*100\n",
    "    print(f\"Price range : {price},Online delivery percentage : {online_delivery_percent}%\")\n",
    "    "
   ]
  },
  {
   "cell_type": "markdown",
   "id": "559fab93",
   "metadata": {
    "papermill": {
     "duration": 0.007828,
     "end_time": "2024-03-05T12:24:28.758024",
     "exception": false,
     "start_time": "2024-03-05T12:24:28.750196",
     "status": "completed"
    },
    "tags": []
   },
   "source": [
    "Determine the most common price range among all restaurants"
   ]
  },
  {
   "cell_type": "code",
   "execution_count": 7,
   "id": "0d48e894",
   "metadata": {
    "execution": {
     "iopub.execute_input": "2024-03-05T12:24:28.775577Z",
     "iopub.status.busy": "2024-03-05T12:24:28.775161Z",
     "iopub.status.idle": "2024-03-05T12:24:28.784193Z",
     "shell.execute_reply": "2024-03-05T12:24:28.782794Z"
    },
    "papermill": {
     "duration": 0.020769,
     "end_time": "2024-03-05T12:24:28.786678",
     "exception": false,
     "start_time": "2024-03-05T12:24:28.765909",
     "status": "completed"
    },
    "tags": []
   },
   "outputs": [
    {
     "name": "stdout",
     "output_type": "stream",
     "text": [
      "The most common price range among all restaurants is : 1\n"
     ]
    }
   ],
   "source": [
    "most_common_range = df['Price range'].mode()[0]\n",
    "print(f\"The most common price range among all restaurants is : {most_common_range}\")"
   ]
  },
  {
   "cell_type": "markdown",
   "id": "681868c6",
   "metadata": {
    "papermill": {
     "duration": 0.007926,
     "end_time": "2024-03-05T12:24:28.802283",
     "exception": false,
     "start_time": "2024-03-05T12:24:28.794357",
     "status": "completed"
    },
    "tags": []
   },
   "source": [
    "Calculate the average rating for each price range"
   ]
  },
  {
   "cell_type": "code",
   "execution_count": 8,
   "id": "8fbb109e",
   "metadata": {
    "execution": {
     "iopub.execute_input": "2024-03-05T12:24:28.820037Z",
     "iopub.status.busy": "2024-03-05T12:24:28.819649Z",
     "iopub.status.idle": "2024-03-05T12:24:28.833427Z",
     "shell.execute_reply": "2024-03-05T12:24:28.832127Z"
    },
    "papermill": {
     "duration": 0.025477,
     "end_time": "2024-03-05T12:24:28.835854",
     "exception": false,
     "start_time": "2024-03-05T12:24:28.810377",
     "status": "completed"
    },
    "tags": []
   },
   "outputs": [
    {
     "name": "stdout",
     "output_type": "stream",
     "text": [
      "Average ratings for each price range : \n",
      "   Price range  Aggregate rating\n",
      "0            1          1.999887\n",
      "1            2          2.941054\n",
      "2            3          3.683381\n",
      "3            4          3.817918\n"
     ]
    }
   ],
   "source": [
    "#We create a list to store the average ratings for each range\n",
    "avg_rating = df.groupby('Price range')['Aggregate rating'].mean().reset_index()\n",
    "print(\"Average ratings for each price range : \")\n",
    "print(avg_rating)"
   ]
  },
  {
   "cell_type": "markdown",
   "id": "ec3027cf",
   "metadata": {
    "papermill": {
     "duration": 0.007579,
     "end_time": "2024-03-05T12:24:28.851852",
     "exception": false,
     "start_time": "2024-03-05T12:24:28.844273",
     "status": "completed"
    },
    "tags": []
   },
   "source": [
    "Identify the color that represents the highest average rating among different price ranges"
   ]
  },
  {
   "cell_type": "code",
   "execution_count": 9,
   "id": "e7640333",
   "metadata": {
    "execution": {
     "iopub.execute_input": "2024-03-05T12:24:28.869851Z",
     "iopub.status.busy": "2024-03-05T12:24:28.869450Z",
     "iopub.status.idle": "2024-03-05T12:24:29.253385Z",
     "shell.execute_reply": "2024-03-05T12:24:29.252452Z"
    },
    "papermill": {
     "duration": 0.395971,
     "end_time": "2024-03-05T12:24:29.256010",
     "exception": false,
     "start_time": "2024-03-05T12:24:28.860039",
     "status": "completed"
    },
    "tags": []
   },
   "outputs": [
    {
     "name": "stdout",
     "output_type": "stream",
     "text": [
      "The color which represents the highest average rating is 4\n"
     ]
    },
    {
     "data": {
      "image/png": "[encoded data removed]",
      "text/plain": [
       "<Figure size 800x600 with 1 Axes>"
      ]
     },
     "metadata": {},
     "output_type": "display_data"
    }
   ],
   "source": [
    "max_rating = avg_rating['Aggregate rating'].max()\n",
    "color_highest = avg_rating.loc[avg_rating['Aggregate rating']==max_rating,'Price range'].values[0]\n",
    "print(f\"The color which represents the highest average rating is {color_highest}\") \n",
    "plt.figure(figsize = (8,6))\n",
    "plt.bar(avg_rating['Price range'],avg_rating['Aggregate rating'],color= 'lightblue')\n",
    "plt.xlabel('Price range')\n",
    "plt.ylabel('Average rating')\n",
    "plt.title('Average ratings by Price Range ')\n",
    "plt.show()"
   ]
  },
  {
   "cell_type": "markdown",
   "id": "47ce13c9",
   "metadata": {
    "papermill": {
     "duration": 0.008873,
     "end_time": "2024-03-05T12:24:29.273112",
     "exception": false,
     "start_time": "2024-03-05T12:24:29.264239",
     "status": "completed"
    },
    "tags": []
   },
   "source": [
    "Extract additional features from the existing columns such as the length of the restaraunt name or address "
   ]
  },
  {
   "cell_type": "code",
   "execution_count": 10,
   "id": "7a4f09e3",
   "metadata": {
    "execution": {
     "iopub.execute_input": "2024-03-05T12:24:29.292208Z",
     "iopub.status.busy": "2024-03-05T12:24:29.291551Z",
     "iopub.status.idle": "2024-03-05T12:24:29.314021Z",
     "shell.execute_reply": "2024-03-05T12:24:29.312895Z"
    },
    "papermill": {
     "duration": 0.035398,
     "end_time": "2024-03-05T12:24:29.316741",
     "exception": false,
     "start_time": "2024-03-05T12:24:29.281343",
     "status": "completed"
    },
    "tags": []
   },
   "outputs": [],
   "source": [
    "df['Restaraunt Name Length']= df['Restaurant Name'].apply(lambda x : len(x))\n",
    "df['Address Length']= df['Address'].apply(lambda x : len(x))"
   ]
  },
  {
   "cell_type": "markdown",
   "id": "6c6e9998",
   "metadata": {
    "papermill": {
     "duration": 0.008656,
     "end_time": "2024-03-05T12:24:29.333776",
     "exception": false,
     "start_time": "2024-03-05T12:24:29.325120",
     "status": "completed"
    },
    "tags": []
   },
   "source": [
    "Create new features like \"Has Table Booking\" and \"Has Online Delivery\" by encoding categorical variables "
   ]
  },
  {
   "cell_type": "code",
   "execution_count": 11,
   "id": "c09078be",
   "metadata": {
    "execution": {
     "iopub.execute_input": "2024-03-05T12:24:29.353279Z",
     "iopub.status.busy": "2024-03-05T12:24:29.352639Z",
     "iopub.status.idle": "2024-03-05T12:24:29.371238Z",
     "shell.execute_reply": "2024-03-05T12:24:29.370020Z"
    },
    "papermill": {
     "duration": 0.031562,
     "end_time": "2024-03-05T12:24:29.374111",
     "exception": false,
     "start_time": "2024-03-05T12:24:29.342549",
     "status": "completed"
    },
    "tags": []
   },
   "outputs": [
    {
     "name": "stdout",
     "output_type": "stream",
     "text": [
      "   Restaurant ID         Restaurant Name  Country Code              City  \\\n",
      "0        6317637        Le Petit Souffle           162       Makati City   \n",
      "1        6304287        Izakaya Kikufuji           162       Makati City   \n",
      "2        6300002  Heat - Edsa Shangri-La           162  Mandaluyong City   \n",
      "3        6318506                    Ooma           162  Mandaluyong City   \n",
      "4        6314302             Sambo Kojin           162  Mandaluyong City   \n",
      "\n",
      "                                             Address  \\\n",
      "0  Third Floor, Century City Mall, Kalayaan Avenu...   \n",
      "1  Little Tokyo, 2277 Chino Roces Avenue, Legaspi...   \n",
      "2  Edsa Shangri-La, 1 Garden Way, Ortigas, Mandal...   \n",
      "3  Third Floor, Mega Fashion Hall, SM Megamall, O...   \n",
      "4  Third Floor, Mega Atrium, SM Megamall, Ortigas...   \n",
      "\n",
      "                                     Locality  \\\n",
      "0   Century City Mall, Poblacion, Makati City   \n",
      "1  Little Tokyo, Legaspi Village, Makati City   \n",
      "2  Edsa Shangri-La, Ortigas, Mandaluyong City   \n",
      "3      SM Megamall, Ortigas, Mandaluyong City   \n",
      "4      SM Megamall, Ortigas, Mandaluyong City   \n",
      "\n",
      "                                    Locality Verbose   Longitude   Latitude  \\\n",
      "0  Century City Mall, Poblacion, Makati City, Mak...  121.027535  14.565443   \n",
      "1  Little Tokyo, Legaspi Village, Makati City, Ma...  121.014101  14.553708   \n",
      "2  Edsa Shangri-La, Ortigas, Mandaluyong City, Ma...  121.056831  14.581404   \n",
      "3  SM Megamall, Ortigas, Mandaluyong City, Mandal...  121.056475  14.585318   \n",
      "4  SM Megamall, Ortigas, Mandaluyong City, Mandal...  121.057508  14.584450   \n",
      "\n",
      "                           Cuisines  ...  Switch to order menu Price range  \\\n",
      "0        French, Japanese, Desserts  ...                    No           3   \n",
      "1                          Japanese  ...                    No           3   \n",
      "2  Seafood, Asian, Filipino, Indian  ...                    No           4   \n",
      "3                   Japanese, Sushi  ...                    No           4   \n",
      "4                  Japanese, Korean  ...                    No           4   \n",
      "\n",
      "   Aggregate rating  Rating color Rating text Votes  Restaraunt Name Length  \\\n",
      "0               4.8    Dark Green   Excellent   314                      16   \n",
      "1               4.5    Dark Green   Excellent   591                      16   \n",
      "2               4.4         Green   Very Good   270                      22   \n",
      "3               4.9    Dark Green   Excellent   365                       4   \n",
      "4               4.8    Dark Green   Excellent   229                      11   \n",
      "\n",
      "   Address Length Has Table Booking Encoded Has Online Delivery Encoded  \n",
      "0              71                         1                           0  \n",
      "1              67                         1                           0  \n",
      "2              56                         1                           0  \n",
      "3              70                         0                           0  \n",
      "4              64                         1                           0  \n",
      "\n",
      "[5 rows x 25 columns]\n"
     ]
    }
   ],
   "source": [
    "lab_enc= LabelEncoder()\n",
    "df['Has Table Booking Encoded']= lab_enc.fit_transform(df['Has Table booking'])\n",
    "df['Has Online Delivery Encoded'] = lab_enc.fit_transform(df['Has Online delivery'])\n",
    "#Viewing the results of extracting address length and restaurant name length and of adding additional columns by encoding variables\n",
    "print(df.head())"
   ]
  }
 ],
 "metadata": {
  "kaggle": {
   "accelerator": "none",
   "dataSources": [
    {
     "datasetId": 4447470,
     "sourceId": 7632520,
     "sourceType": "datasetVersion"
    }
   ],
   "dockerImageVersionId": 30664,
   "isGpuEnabled": false,
   "isInternetEnabled": true,
   "language": "python",
   "sourceType": "notebook"
  },
  "kernelspec": {
   "display_name": "Python 3",
   "language": "python",
   "name": "python3"
  },
  "language_info": {
   "codemirror_mode": {
    "name": "ipython",
    "version": 3
   },
   "file_extension": ".py",
   "mimetype": "text/x-python",
   "name": "python",
   "nbconvert_exporter": "python",
   "pygments_lexer": "ipython3",
   "version": "3.10.13"
  },
  "papermill": {
   "default_parameters": {},
   "duration": 7.359091,
   "end_time": "2024-03-05T12:24:30.006461",
   "environment_variables": {},
   "exception": null,
   "input_path": "__notebook__.ipynb",
   "output_path": "__notebook__.ipynb",
   "parameters": {},
   "start_time": "2024-03-05T12:24:22.647370",
   "version": "2.5.0"
  }
 },
 "nbformat": 4,
 "nbformat_minor": 5
}
